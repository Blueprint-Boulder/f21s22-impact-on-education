{
 "cells": [
  {
   "cell_type": "markdown",
   "id": "49b000b6-2000-4beb-afe3-d5f2c271775f",
   "metadata": {},
   "source": [
    "# TextBlob can't distinguish names from other proper nouns"
   ]
  },
  {
   "cell_type": "code",
   "execution_count": 1,
   "id": "dd47dce3-448a-476b-a6cf-bcdf9b9709f9",
   "metadata": {},
   "outputs": [],
   "source": [
    "import textblob\n",
    "from textblob import TextBlob\n",
    "from textblob.en.taggers import PatternTagger"
   ]
  },
  {
   "cell_type": "markdown",
   "id": "e818447b-600d-44b7-b9b4-da6036d0876a",
   "metadata": {},
   "source": [
    "#### Sentences: \"Alices is next to Bob\", \"Alice is next to China\""
   ]
  },
  {
   "cell_type": "code",
   "execution_count": 2,
   "id": "a9155dc5-0e68-477b-85b7-83aa83e94ef3",
   "metadata": {},
   "outputs": [],
   "source": [
    "blob1 = TextBlob(\"Alice is next to Bob.\")\n",
    "blob2 = TextBlob(\"Alice is next to China.\")"
   ]
  },
  {
   "cell_type": "markdown",
   "id": "e2807321-c115-4b0e-9692-ff8f51a88c2e",
   "metadata": {},
   "source": [
    "### Starting with the default tagger (NLTKTagger):"
   ]
  },
  {
   "cell_type": "code",
   "execution_count": 3,
   "id": "d8079254-d9d7-499e-99d7-dd102cbaee0e",
   "metadata": {},
   "outputs": [
    {
     "name": "stdout",
     "output_type": "stream",
     "text": [
      "blob1 and blob2 taggers: <textblob.en.taggers.NLTKTagger object at 0x112eb56c0>, <textblob.en.taggers.NLTKTagger object at 0x112eb56c0>\n"
     ]
    }
   ],
   "source": [
    "print(f\"blob1 and blob2 taggers: {blob1.pos_tagger}, {blob2.pos_tagger}\")"
   ]
  },
  {
   "cell_type": "code",
   "execution_count": 4,
   "id": "8ffbf721-4c84-4ca3-912f-40e551270034",
   "metadata": {},
   "outputs": [
    {
     "name": "stdout",
     "output_type": "stream",
     "text": [
      "blob1.tags: [('Alice', 'NNP'), ('is', 'VBZ'), ('next', 'JJ'), ('to', 'TO'), ('Bob', 'NNP')]\n",
      "blob2.tags: [('Alice', 'NNP'), ('is', 'VBZ'), ('next', 'JJ'), ('to', 'TO'), ('China', 'NNP')]\n",
      "blob1.parse(): Alice/NNP/B-NP/O is/VBZ/B-VP/O next/JJ/B-ADJP/O to/TO/B-PP/B-PNP Bob/NNP/B-NP/I-PNP ././O/O\n",
      "blob2.parse(): Alice/NNP/B-NP/O is/VBZ/B-VP/O next/JJ/B-ADJP/O to/TO/B-PP/B-PNP China/NNP/B-NP/I-PNP ././O/O\n"
     ]
    }
   ],
   "source": [
    "print(f\"blob1.tags: {blob1.tags}\")\n",
    "print(f\"blob2.tags: {blob2.tags}\")\n",
    "print(f\"blob1.parse(): {blob1.parse()}\")\n",
    "print(f\"blob2.parse(): {blob2.parse()}\")"
   ]
  },
  {
   "cell_type": "markdown",
   "id": "53898daa-28ce-472b-8580-a17acf94b163",
   "metadata": {},
   "source": [
    "### Trying again with the other provided tagger (PatternTagger) gives the exact same results:"
   ]
  },
  {
   "cell_type": "code",
   "execution_count": 5,
   "id": "89e3c7e7-c33d-43bb-b43a-c9c298b2b3c0",
   "metadata": {},
   "outputs": [],
   "source": [
    "from textblob.en.taggers import PatternTagger\n",
    "blob1.pos_tagger = PatternTagger()\n",
    "blob2.pos_tagger = PatternTagger()"
   ]
  },
  {
   "cell_type": "code",
   "execution_count": 6,
   "id": "c9fc29f0-2ff7-4df4-b9f2-32e45d2fa428",
   "metadata": {},
   "outputs": [
    {
     "name": "stdout",
     "output_type": "stream",
     "text": [
      "blob1.tags: [('Alice', 'NNP'), ('is', 'VBZ'), ('next', 'JJ'), ('to', 'TO'), ('Bob', 'NNP')]\n",
      "blob2.tags: [('Alice', 'NNP'), ('is', 'VBZ'), ('next', 'JJ'), ('to', 'TO'), ('China', 'NNP')]\n",
      "blob1.parse(): Alice/NNP/B-NP/O is/VBZ/B-VP/O next/JJ/B-ADJP/O to/TO/B-PP/B-PNP Bob/NNP/B-NP/I-PNP ././O/O\n",
      "blob2.parse(): Alice/NNP/B-NP/O is/VBZ/B-VP/O next/JJ/B-ADJP/O to/TO/B-PP/B-PNP China/NNP/B-NP/I-PNP ././O/O\n"
     ]
    }
   ],
   "source": [
    "print(f\"blob1.tags: {blob1.tags}\")\n",
    "print(f\"blob2.tags: {blob2.tags}\")\n",
    "print(f\"blob1.parse(): {blob1.parse()}\")\n",
    "print(f\"blob2.parse(): {blob2.parse()}\")"
   ]
  },
  {
   "cell_type": "markdown",
   "id": "6e8b1b3e-4e29-4683-b22a-a1e78f2692fe",
   "metadata": {
    "tags": []
   },
   "source": [
    "For the `.tags` property, both \"Bob\" and \"China\" are classified as \"NNP\" [(singular proper noun)](https://www.guru99.com/pos-tagging-chunking-nltk.html). For the `.parse()` method, both \"Bob\" and \"China\" are classified as \"NNP/B-NP/I-PNP\" (singular proper noun, [beginning](https://www.nltk.org/book/ch07.html#:~:text=A%20token%20is%20tagged%20as%20B%20if%20it%20marks%20the%20beginning%20of%20a%20chunk.) of a [noun phrase](https://coling.epfl.ch/TP/corr/TP-parsing-sol.php#:~:text=S%20%2D%20Sentence-,NP%20%2D%20Noun%20Phrase,-VP%20%2D%20Verb%20Phrase), [part of](https://www.nltk.org/book/ch07.html#:~:text=Subsequent%20tokens%20within%20the%20chunk%20are%20tagged%20I.) a [prepositional noun phrase](https://coling.epfl.ch/TP/corr/TP-parsing-sol.php#:~:text=PNP%20%2D%20Prepositional%20Noun%20Phrase))"
   ]
  },
  {
   "cell_type": "markdown",
   "id": "a5437d88-8aec-43e9-8a2b-68a4bb2b75c2",
   "metadata": {},
   "source": [
    "It makes sense that names wouldn't be classified separately from other proper nouns;\n",
    "the `.tags` property is an alias for the `.pos_tags()` method, which stands for \"part of speech\".\n",
    "A name isn't really a separate \"part of speech\" from other proper nouns.\n",
    "`.parse()` seems to basically be `.tags` plus labels for where phrases begin and end.\n",
    "\n",
    "\n",
    "But after reading through the [TextBlob documentation](https://buildmedia.readthedocs.org/media/pdf/textblob/latest/textblob.pdf), nothing else looks up to the task either, aside from training a classifier with some public dataset (TextBlob doesn't seem to provide any). \n",
    "\n",
    "Since other libraries like NLTK and Spacey can detect people's names out-of-the-box, we probably shouldn't use TextBlob."
   ]
  },
  {
   "cell_type": "code",
   "execution_count": null,
   "id": "2598950e-4d18-4a0f-88ff-1f1596efe229",
   "metadata": {
    "tags": []
   },
   "outputs": [],
   "source": []
  }
 ],
 "metadata": {
  "kernelspec": {
   "display_name": "Python 3 (ipykernel)",
   "language": "python",
   "name": "python3"
  },
  "language_info": {
   "codemirror_mode": {
    "name": "ipython",
    "version": 3
   },
   "file_extension": ".py",
   "mimetype": "text/x-python",
   "name": "python",
   "nbconvert_exporter": "python",
   "pygments_lexer": "ipython3",
   "version": "3.10.2"
  }
 },
 "nbformat": 4,
 "nbformat_minor": 5
}
