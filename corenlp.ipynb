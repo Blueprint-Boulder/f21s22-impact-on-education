{
 "cells": [
  {
   "cell_type": "code",
   "execution_count": 3,
   "metadata": {},
   "outputs": [],
   "source": [
    "import stanza\n",
    "# stanza.download('en')"
   ]
  },
  {
   "cell_type": "code",
   "execution_count": 4,
   "metadata": {},
   "outputs": [
    {
     "name": "stderr",
     "output_type": "stream",
     "text": [
      "2022-03-14 13:01:56 INFO: Loading these models for language: en (English):\n",
      "============================\n",
      "| Processor    | Package   |\n",
      "----------------------------\n",
      "| tokenize     | combined  |\n",
      "| pos          | combined  |\n",
      "| lemma        | combined  |\n",
      "| depparse     | combined  |\n",
      "| sentiment    | sstplus   |\n",
      "| constituency | wsj       |\n",
      "| ner          | ontonotes |\n",
      "============================\n",
      "\n",
      "2022-03-14 13:01:56 INFO: Use device: cpu\n",
      "2022-03-14 13:01:56 INFO: Loading: tokenize\n",
      "2022-03-14 13:01:56 INFO: Loading: pos\n",
      "2022-03-14 13:01:57 INFO: Loading: lemma\n",
      "2022-03-14 13:01:57 INFO: Loading: depparse\n",
      "2022-03-14 13:01:57 INFO: Loading: sentiment\n",
      "2022-03-14 13:01:58 INFO: Loading: constituency\n",
      "2022-03-14 13:01:58 INFO: Loading: ner\n",
      "2022-03-14 13:01:59 INFO: Done loading processors!\n"
     ]
    },
    {
     "name": "stdout",
     "output_type": "stream",
     "text": [
      "[{\n",
      "  \"text\": \"Obama\",\n",
      "  \"type\": \"PERSON\",\n",
      "  \"start_char\": 0,\n",
      "  \"end_char\": 5\n",
      "}, {\n",
      "  \"text\": \"Harvard\",\n",
      "  \"type\": \"ORG\",\n",
      "  \"start_char\": 14,\n",
      "  \"end_char\": 21\n",
      "}, {\n",
      "  \"text\": \"1988\",\n",
      "  \"type\": \"DATE\",\n",
      "  \"start_char\": 25,\n",
      "  \"end_char\": 29\n",
      "}]\n",
      "Parsed Sentence: \n",
      "PERSON went to ORG in DATE \n"
     ]
    }
   ],
   "source": [
    "nlp = stanza.Pipeline('en') # This sets up a default neural pipeline in English\n",
    "input_sentence = \"Obama went to Harvard in 1988\"\n",
    "doc = nlp(input_sentence)\n",
    "lst_entities = {}\n",
    "for sentence in doc.sentences:\n",
    "    print(sentence.ents)\n",
    "    for i in sentence.ents:\n",
    "        lst_entities[i.text] = i.type\n",
    "end_word = \"\"\n",
    "for word in input_sentence.split(\" \"):\n",
    "    if word in lst_entities:\n",
    "        end_word += lst_entities[word] + \" \"\n",
    "    else:\n",
    "        end_word += word + \" \"\n",
    "print(\"Parsed Sentence: \")\n",
    "print(end_word)"
   ]
  },
  {
   "cell_type": "code",
   "execution_count": null,
   "metadata": {},
   "outputs": [],
   "source": []
  }
 ],
 "metadata": {
  "kernelspec": {
   "display_name": "Python 3 (ipykernel)",
   "language": "python",
   "name": "python3"
  },
  "language_info": {
   "codemirror_mode": {
    "name": "ipython",
    "version": 3
   },
   "file_extension": ".py",
   "mimetype": "text/x-python",
   "name": "python",
   "nbconvert_exporter": "python",
   "pygments_lexer": "ipython3",
   "version": "3.9.5"
  }
 },
 "nbformat": 4,
 "nbformat_minor": 2
}
